{
  "nbformat": 4,
  "nbformat_minor": 0,
  "metadata": {
    "colab": {
      "name": "CW_J075_11/7/2020 .ipynb",
      "provenance": [],
      "collapsed_sections": [],
      "authorship_tag": "ABX9TyNpk2Xo0C9RHOB8mE3mlEba",
      "include_colab_link": true
    },
    "kernelspec": {
      "name": "python3",
      "display_name": "Python 3"
    }
  },
  "cells": [
    {
      "cell_type": "markdown",
      "metadata": {
        "id": "view-in-github",
        "colab_type": "text"
      },
      "source": [
        "<a href=\"https://colab.research.google.com/github/hiiamjay/AI/blob/master/CW/CW_J075_11_7_2020_.ipynb\" target=\"_parent\"><img src=\"https://colab.research.google.com/assets/colab-badge.svg\" alt=\"Open In Colab\"/></a>"
      ]
    },
    {
      "cell_type": "code",
      "metadata": {
        "id": "Esrw7hHXHXOI",
        "colab_type": "code",
        "colab": {}
      },
      "source": [
        "# list \n",
        "a = [1,2,3,4,5,\"human\"]\n",
        "b = [[1,2,3,4,5],[1,2,3,4,\"human\"],[4,5,\"human\",5,6]]\n",
        "\n",
        "# tuple\n",
        "d = (1,3,4,\"human\")\n",
        "\n",
        "# Set\n",
        "c = {1,2,3,4,5,1,2,3,4}"
      ],
      "execution_count": null,
      "outputs": []
    },
    {
      "cell_type": "markdown",
      "metadata": {
        "id": "3_I8ANEpzjwM",
        "colab_type": "text"
      },
      "source": [
        ""
      ]
    },
    {
      "cell_type": "code",
      "metadata": {
        "id": "ivoSjnQ_Lgds",
        "colab_type": "code",
        "colab": {
          "base_uri": "https://localhost:8080/",
          "height": 85
        },
        "outputId": "8af02b34-3a78-4139-812b-3d42808bc14c"
      },
      "source": [
        "print(a,type(a))\n",
        "print(b,type(b))\n",
        "print(c,type(c))\n",
        "print(d,type(d))"
      ],
      "execution_count": null,
      "outputs": [
        {
          "output_type": "stream",
          "text": [
            "[1, 2, 3, 4, 5, 'human'] <class 'list'>\n",
            "[[1, 2, 3, 4, 5], [1, 2, 3, 4, 'human'], [4, 5, 'human', 5, 6]] <class 'list'>\n",
            "{1, 2, 3, 4, 5} <class 'set'>\n",
            "(1, 3, 4, 'human') <class 'tuple'>\n"
          ],
          "name": "stdout"
        }
      ]
    },
    {
      "cell_type": "code",
      "metadata": {
        "id": "6y6IQiZsMTfH",
        "colab_type": "code",
        "colab": {
          "base_uri": "https://localhost:8080/",
          "height": 34
        },
        "outputId": "a40a042b-0838-4230-c2a4-b54018337d9c"
      },
      "source": [
        "aa = set(a) #converting list to set\n",
        "print(aa,type(aa))"
      ],
      "execution_count": null,
      "outputs": [
        {
          "output_type": "stream",
          "text": [
            "{1, 2, 3, 4, 5, 'human'} <class 'set'>\n"
          ],
          "name": "stdout"
        }
      ]
    },
    {
      "cell_type": "code",
      "metadata": {
        "id": "s6RANxgkMaEt",
        "colab_type": "code",
        "colab": {
          "base_uri": "https://localhost:8080/",
          "height": 181
        },
        "outputId": "be3328cf-769b-4d64-84b3-909dbb4c9927"
      },
      "source": [
        "bb = set(b) # converting list of list to set is not possible \n",
        "print(bb,type(bb))"
      ],
      "execution_count": null,
      "outputs": [
        {
          "output_type": "error",
          "ename": "TypeError",
          "evalue": "ignored",
          "traceback": [
            "\u001b[0;31m---------------------------------------------------------------------------\u001b[0m",
            "\u001b[0;31mTypeError\u001b[0m                                 Traceback (most recent call last)",
            "\u001b[0;32m<ipython-input-22-c12d7edec9c4>\u001b[0m in \u001b[0;36m<module>\u001b[0;34m()\u001b[0m\n\u001b[0;32m----> 1\u001b[0;31m \u001b[0mbb\u001b[0m \u001b[0;34m=\u001b[0m \u001b[0mset\u001b[0m\u001b[0;34m(\u001b[0m\u001b[0mb\u001b[0m\u001b[0;34m)\u001b[0m\u001b[0;34m\u001b[0m\u001b[0;34m\u001b[0m\u001b[0m\n\u001b[0m\u001b[1;32m      2\u001b[0m \u001b[0mprint\u001b[0m\u001b[0;34m(\u001b[0m\u001b[0mbb\u001b[0m\u001b[0;34m,\u001b[0m\u001b[0mtype\u001b[0m\u001b[0;34m(\u001b[0m\u001b[0mbb\u001b[0m\u001b[0;34m)\u001b[0m\u001b[0;34m)\u001b[0m\u001b[0;34m\u001b[0m\u001b[0;34m\u001b[0m\u001b[0m\n",
            "\u001b[0;31mTypeError\u001b[0m: unhashable type: 'list'"
          ]
        }
      ]
    },
    {
      "cell_type": "code",
      "metadata": {
        "id": "fC5FNOcGM67o",
        "colab_type": "code",
        "colab": {
          "base_uri": "https://localhost:8080/",
          "height": 34
        },
        "outputId": "aa3dd3e5-2727-4668-a504-46bdbff40578"
      },
      "source": [
        "#Converting string to Set\n",
        "name = \"Jay Prajapati\"\n",
        "name = set(name)\n",
        "print(name, type(name))"
      ],
      "execution_count": null,
      "outputs": [
        {
          "output_type": "stream",
          "text": [
            "{'i', 'a', 'J', 'p', 'P', 'r', 't', 'y', 'j', ' '} <class 'set'>\n"
          ],
          "name": "stdout"
        }
      ]
    },
    {
      "cell_type": "code",
      "metadata": {
        "id": "zZTRdrYwNV8K",
        "colab_type": "code",
        "colab": {
          "base_uri": "https://localhost:8080/",
          "height": 34
        },
        "outputId": "7254c79c-eb04-4adf-bcbe-3a739a6a7a19"
      },
      "source": [
        "mix = {75, \"Jay\", 141.1141, True, None}\n",
        "print(mix, type(mix))"
      ],
      "execution_count": null,
      "outputs": [
        {
          "output_type": "stream",
          "text": [
            "{True, 75, 141.1141, 'Jay', None} <class 'set'>\n"
          ],
          "name": "stdout"
        }
      ]
    },
    {
      "cell_type": "code",
      "metadata": {
        "id": "kFDcSHsON5tC",
        "colab_type": "code",
        "colab": {
          "base_uri": "https://localhost:8080/",
          "height": 34
        },
        "outputId": "5894bfe0-2967-4de2-c4a5-92b15615c532"
      },
      "source": [
        "len(mix)"
      ],
      "execution_count": null,
      "outputs": [
        {
          "output_type": "execute_result",
          "data": {
            "text/plain": [
              "5"
            ]
          },
          "metadata": {
            "tags": []
          },
          "execution_count": 25
        }
      ]
    },
    {
      "cell_type": "code",
      "metadata": {
        "id": "bY8Udq-4OAjk",
        "colab_type": "code",
        "colab": {
          "base_uri": "https://localhost:8080/",
          "height": 164
        },
        "outputId": "133ed481-d558-4831-bc28-dc65cc06ffcd"
      },
      "source": [
        "name.append(aa) #append dosent work"
      ],
      "execution_count": null,
      "outputs": [
        {
          "output_type": "error",
          "ename": "AttributeError",
          "evalue": "ignored",
          "traceback": [
            "\u001b[0;31m---------------------------------------------------------------------------\u001b[0m",
            "\u001b[0;31mAttributeError\u001b[0m                            Traceback (most recent call last)",
            "\u001b[0;32m<ipython-input-26-c1b70fe29799>\u001b[0m in \u001b[0;36m<module>\u001b[0;34m()\u001b[0m\n\u001b[0;32m----> 1\u001b[0;31m \u001b[0mname\u001b[0m\u001b[0;34m.\u001b[0m\u001b[0mappend\u001b[0m\u001b[0;34m(\u001b[0m\u001b[0maa\u001b[0m\u001b[0;34m)\u001b[0m\u001b[0;34m\u001b[0m\u001b[0;34m\u001b[0m\u001b[0m\n\u001b[0m",
            "\u001b[0;31mAttributeError\u001b[0m: 'set' object has no attribute 'append'"
          ]
        }
      ]
    },
    {
      "cell_type": "code",
      "metadata": {
        "id": "CaotDYiVOTBH",
        "colab_type": "code",
        "colab": {
          "base_uri": "https://localhost:8080/",
          "height": 51
        },
        "outputId": "b7e6f744-5e8a-4f63-be4d-d8d36102e0c1"
      },
      "source": [
        "print(\"Jay\" in name)\n",
        "print(\"Jay\" in mix)"
      ],
      "execution_count": null,
      "outputs": [
        {
          "output_type": "stream",
          "text": [
            "False\n",
            "True\n"
          ],
          "name": "stdout"
        }
      ]
    },
    {
      "cell_type": "code",
      "metadata": {
        "id": "SvrAeeBPOqO-",
        "colab_type": "code",
        "colab": {
          "base_uri": "https://localhost:8080/",
          "height": 357
        },
        "outputId": "8d60b62d-b22a-4b66-fdf0-efcf96eac258"
      },
      "source": [
        "mix | aa | name"
      ],
      "execution_count": null,
      "outputs": [
        {
          "output_type": "execute_result",
          "data": {
            "text/plain": [
              "{' ',\n",
              " 141.1141,\n",
              " 2,\n",
              " 3,\n",
              " 4,\n",
              " 5,\n",
              " 75,\n",
              " 'J',\n",
              " 'Jay',\n",
              " None,\n",
              " 'P',\n",
              " True,\n",
              " 'a',\n",
              " 'human',\n",
              " 'i',\n",
              " 'j',\n",
              " 'p',\n",
              " 'r',\n",
              " 't',\n",
              " 'y'}"
            ]
          },
          "metadata": {
            "tags": []
          },
          "execution_count": 31
        }
      ]
    },
    {
      "cell_type": "code",
      "metadata": {
        "id": "z-JwrCbwO81B",
        "colab_type": "code",
        "colab": {
          "base_uri": "https://localhost:8080/",
          "height": 34
        },
        "outputId": "446b41ba-d4d5-498e-fe39-6395036773d2"
      },
      "source": [
        "mix.pop()"
      ],
      "execution_count": null,
      "outputs": [
        {
          "output_type": "execute_result",
          "data": {
            "text/plain": [
              "True"
            ]
          },
          "metadata": {
            "tags": []
          },
          "execution_count": 43
        }
      ]
    },
    {
      "cell_type": "code",
      "metadata": {
        "id": "8PNMvSqESYLL",
        "colab_type": "code",
        "colab": {
          "base_uri": "https://localhost:8080/",
          "height": 34
        },
        "outputId": "56722e8f-1c02-4e2d-9adb-55d8ed8c75ba"
      },
      "source": [
        "print(mix, type(mix))"
      ],
      "execution_count": null,
      "outputs": [
        {
          "output_type": "stream",
          "text": [
            "{75, 141.1141, 'Jay', None} <class 'set'>\n"
          ],
          "name": "stdout"
        }
      ]
    },
    {
      "cell_type": "code",
      "metadata": {
        "id": "hpf-geuwStEp",
        "colab_type": "code",
        "colab": {}
      },
      "source": [
        "a = 1\n",
        "b = 2\n",
        "c = 3"
      ],
      "execution_count": 1,
      "outputs": []
    },
    {
      "cell_type": "code",
      "metadata": {
        "id": "zxpeJS1CRv2o",
        "colab_type": "code",
        "colab": {}
      },
      "source": [
        "def printer():\n",
        "  print(a+b)\n",
        "\n",
        "def sum(a,b):\n",
        "  print(a+b)"
      ],
      "execution_count": 2,
      "outputs": []
    },
    {
      "cell_type": "code",
      "metadata": {
        "id": "r4Gz6PccSAiE",
        "colab_type": "code",
        "colab": {
          "base_uri": "https://localhost:8080/",
          "height": 34
        },
        "outputId": "fdb0b6d0-552d-40ba-c070-8365060333c0"
      },
      "source": [
        "printer()"
      ],
      "execution_count": 3,
      "outputs": [
        {
          "output_type": "stream",
          "text": [
            "3\n"
          ],
          "name": "stdout"
        }
      ]
    },
    {
      "cell_type": "code",
      "metadata": {
        "id": "MRjpMiQtSC8R",
        "colab_type": "code",
        "colab": {
          "base_uri": "https://localhost:8080/",
          "height": 34
        },
        "outputId": "bf547b39-c34f-498a-b9c8-b6b53d96d60a"
      },
      "source": [
        "sum(b,c)"
      ],
      "execution_count": 4,
      "outputs": [
        {
          "output_type": "stream",
          "text": [
            "5\n"
          ],
          "name": "stdout"
        }
      ]
    },
    {
      "cell_type": "code",
      "metadata": {
        "id": "50rhkqbaSFHt",
        "colab_type": "code",
        "colab": {
          "base_uri": "https://localhost:8080/",
          "height": 34
        },
        "outputId": "614b724f-b83a-4055-e3e2-b146012893ed"
      },
      "source": [
        "if a>9:\n",
        "  print(a)\n",
        "else:\n",
        "  print(a+9)"
      ],
      "execution_count": 5,
      "outputs": [
        {
          "output_type": "stream",
          "text": [
            "10\n"
          ],
          "name": "stdout"
        }
      ]
    },
    {
      "cell_type": "code",
      "metadata": {
        "id": "-puUWC30SO1t",
        "colab_type": "code",
        "colab": {
          "base_uri": "https://localhost:8080/",
          "height": 35
        },
        "outputId": "87782bb4-5ff6-4e69-fd2c-118e4b8879e1"
      },
      "source": [
        "#Converting a number from base n to base 10 int (num in base n, n)\n",
        "\n",
        "str(int(\"1010\",2))"
      ],
      "execution_count": 6,
      "outputs": [
        {
          "output_type": "execute_result",
          "data": {
            "application/vnd.google.colaboratory.intrinsic": {
              "type": "string"
            },
            "text/plain": [
              "'10'"
            ]
          },
          "metadata": {
            "tags": []
          },
          "execution_count": 6
        }
      ]
    },
    {
      "cell_type": "code",
      "metadata": {
        "id": "NvvA1LXNSWKI",
        "colab_type": "code",
        "colab": {
          "base_uri": "https://localhost:8080/",
          "height": 51
        },
        "outputId": "347b09df-4200-4cf7-d6b0-1408f287d7ba"
      },
      "source": [
        "def sumx():\n",
        "  a = 'fhxhfchgv vfxxbhch\\n wifcfchhhvhhwd\\\n",
        "  vrxhcgchbccn\\\n",
        "  nhmvh nbgxrxggnc'\n",
        "  print(a)\n",
        "sumx()"
      ],
      "execution_count": 7,
      "outputs": [
        {
          "output_type": "stream",
          "text": [
            "fhxhfchgv vfxxbhch\n",
            " wifcfchhhvhhwd  vrxhcgchbccn  nhmvh nbgxrxggnc\n"
          ],
          "name": "stdout"
        }
      ]
    },
    {
      "cell_type": "code",
      "metadata": {
        "id": "HWc3c1qmSliO",
        "colab_type": "code",
        "colab": {
          "base_uri": "https://localhost:8080/",
          "height": 34
        },
        "outputId": "6cf3a4a4-d8fc-4b58-9fb1-26b9a9d44d64"
      },
      "source": [
        "x = [1,2,3,4]\n",
        "y = [3,4,5,6]\n",
        "y.pop(-1)\n",
        "y"
      ],
      "execution_count": 8,
      "outputs": [
        {
          "output_type": "execute_result",
          "data": {
            "text/plain": [
              "[3, 4, 5]"
            ]
          },
          "metadata": {
            "tags": []
          },
          "execution_count": 8
        }
      ]
    },
    {
      "cell_type": "code",
      "metadata": {
        "id": "895osK6PSuIZ",
        "colab_type": "code",
        "colab": {
          "base_uri": "https://localhost:8080/",
          "height": 51
        },
        "outputId": "3a66de3c-8477-455f-ed52-13f7f12b174f"
      },
      "source": [
        "# Name mangling, Variable name is different if wanted to be called out of the class\n",
        "\n",
        "class student:\n",
        "  #__name = self.__name\n",
        "  def __init__(self, name):\n",
        "    self.name = name\n",
        "  def displayName(self):\n",
        "    print(self.name)\n",
        "\n",
        "##Class vs Object\n",
        "s1 = student('Jay Prajapati')\n",
        "s1.displayName()\n",
        "\n",
        "#Raise an error\n",
        "print(s1.name)\n",
        "\n",
        "##If you define a global variable in a function with underscore, \n",
        "##then you have to access the variable by <object>._<class_name><variable_name_starting_with_underscore>"
      ],
      "execution_count": 10,
      "outputs": [
        {
          "output_type": "stream",
          "text": [
            "Jay Prajapati\n",
            "Jay Prajapati\n"
          ],
          "name": "stdout"
        }
      ]
    },
    {
      "cell_type": "code",
      "metadata": {
        "id": "5bIOLkHqS3yi",
        "colab_type": "code",
        "colab": {
          "base_uri": "https://localhost:8080/",
          "height": 51
        },
        "outputId": "f8b9daae-6918-4e56-cead-1aed200200e6"
      },
      "source": [
        "class stud(student):\n",
        "  def __init__(self, a, name):\n",
        "    self.a = a\n",
        "    student.__init__(student, name) \n",
        "\n",
        "s2 = stud(75, 'Jay Prajapati')\n",
        "print(s2.name)\n",
        "print(s2.a)"
      ],
      "execution_count": 11,
      "outputs": [
        {
          "output_type": "stream",
          "text": [
            "Jay Prajapati\n",
            "75\n"
          ],
          "name": "stdout"
        }
      ]
    },
    {
      "cell_type": "code",
      "metadata": {
        "id": "NqsySgTfTE5b",
        "colab_type": "code",
        "colab": {}
      },
      "source": [
        ""
      ],
      "execution_count": null,
      "outputs": []
    }
  ]
}