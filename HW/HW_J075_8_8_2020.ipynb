{
  "nbformat": 4,
  "nbformat_minor": 0,
  "metadata": {
    "colab": {
      "name": "HW_J075_8/8/2020.ipynb",
      "provenance": [],
      "authorship_tag": "ABX9TyO3szHT4yposX2324KDPhGA",
      "include_colab_link": true
    },
    "kernelspec": {
      "name": "python3",
      "display_name": "Python 3"
    }
  },
  "cells": [
    {
      "cell_type": "markdown",
      "metadata": {
        "id": "view-in-github",
        "colab_type": "text"
      },
      "source": [
        "<a href=\"https://colab.research.google.com/github/hiiamjay/AI/blob/master/HW/HW_J075_8_8_2020.ipynb\" target=\"_parent\"><img src=\"https://colab.research.google.com/assets/colab-badge.svg\" alt=\"Open In Colab\"/></a>"
      ]
    },
    {
      "cell_type": "code",
      "metadata": {
        "id": "jc1ZcY380yKz",
        "colab_type": "code",
        "colab": {}
      },
      "source": [
        "import sys\n",
        "import heapq"
      ],
      "execution_count": 1,
      "outputs": []
    },
    {
      "cell_type": "code",
      "metadata": {
        "id": "s5KGauTF0zGl",
        "colab_type": "code",
        "colab": {}
      },
      "source": [
        "def knapsack_function(x1,x2,x3,x4,x5) :\n",
        "\n",
        "    T = tuple(set() for _ in range(x1))\n",
        "    for u,v in x5 :\n",
        "        T[u].add(v)\n",
        "        T[v].add(u)\n",
        "    Total, order, max_val = sum(x4), sorted(range(x1), reverse=True, key=(lambda i : x4[i]/x3[i])), 0\n",
        "        \n",
        "    def max(visit, connect, reject, size, val, reject_val, max_val) :\n",
        "        if val > max_val :\n",
        "            max_val = val\n",
        "            \n",
        "        if not connect :\n",
        "            return max_val\n",
        "        \n",
        "        i = Best(connect)\n",
        "        if size + x3[i] <= x2 :\n",
        "            max_val = max(visit|{i}, (connect-{i}) | (T[i]-reject-visit), reject, size+x3[i], val+x4[i], reject_val, max_val)\n",
        "            \n",
        "        if Total - (reject_val + x4[i]) > max_val :\n",
        "            max_val = max(visit|{i}, connect-{i}, reject | {i}, size, val, reject_val + x4[i], max_val)\n",
        "            \n",
        "        return max_val\n",
        "\n",
        "    def Best(connect) :\n",
        "        for i in order :\n",
        "            if i in connect :\n",
        "                return i\n",
        "            \n",
        "    for s in order :\n",
        "        max_val = max(set(),{s},set(),0,0,0,max_val)\n",
        "\n",
        "    return max_val"
      ],
      "execution_count": 7,
      "outputs": []
    },
    {
      "cell_type": "code",
      "metadata": {
        "id": "NOAERZHA01hK",
        "colab_type": "code",
        "colab": {}
      },
      "source": [
        "def knapsack_run():\n",
        "  print(\"Input : \")\n",
        "  T = int(input())\n",
        "  for _ in range(T) :\n",
        "      x1,x2 = (int(_) for _ in input().split())\n",
        "      x3 = tuple(int(_) for _ in input().split())\n",
        "      x4 = tuple(int(_) for _ in input().split())\n",
        "      x5 = tuple((int(_)-1 for _ in input().split()) for _ in range(x1-1))\n",
        "      print(\"output\",knapsack_function(x1,x2,x3,x4,x5))"
      ],
      "execution_count": 5,
      "outputs": []
    },
    {
      "cell_type": "code",
      "metadata": {
        "id": "BTB2Wr8R04T3",
        "colab_type": "code",
        "colab": {
          "base_uri": "https://localhost:8080/",
          "height": 153
        },
        "outputId": "3682955f-cd39-41ba-9d88-ff6d7b3b2520"
      },
      "source": [
        "knapsack_run()"
      ],
      "execution_count": 8,
      "outputs": [
        {
          "output_type": "stream",
          "text": [
            "Input : \n",
            "1\n",
            "3 1\n",
            "1 1 1\n",
            "1 2 3\n",
            "1 2\n",
            "1 3\n",
            "output 3\n"
          ],
          "name": "stdout"
        }
      ]
    },
    {
      "cell_type": "code",
      "metadata": {
        "id": "15-yG75y07kf",
        "colab_type": "code",
        "colab": {
          "base_uri": "https://localhost:8080/",
          "height": 187
        },
        "outputId": "73fcd2c4-a718-4be5-e9a0-cad25f2d57ba"
      },
      "source": [
        "knapsack_run()"
      ],
      "execution_count": 10,
      "outputs": [
        {
          "output_type": "stream",
          "text": [
            "Input : \n",
            "1\n",
            "5 3\n",
            "1 1 1 1 1\n",
            "3 5 2 2 3\n",
            "1 2\n",
            "1 3\n",
            "2 4\n",
            "2 5\n",
            "output 11\n"
          ],
          "name": "stdout"
        }
      ]
    },
    {
      "cell_type": "code",
      "metadata": {
        "id": "sDLyDmhz1tfV",
        "colab_type": "code",
        "colab": {
          "base_uri": "https://localhost:8080/",
          "height": 255
        },
        "outputId": "414d483b-e9d6-4852-d714-30a1b70185f9"
      },
      "source": [
        "knapsack_run()"
      ],
      "execution_count": 11,
      "outputs": [
        {
          "output_type": "stream",
          "text": [
            "Input : \n",
            "1\n",
            "9 7\n",
            "1 1 3 2 1 1 1 5 5\n",
            "1 0 8 5 1 2 0 9 14\n",
            "1 2\n",
            "2 3\n",
            "2 4\n",
            "3 5\n",
            "3 6\n",
            "4 7\n",
            "4 8\n",
            "7 9\n",
            "output 15\n"
          ],
          "name": "stdout"
        }
      ]
    }
  ]
}