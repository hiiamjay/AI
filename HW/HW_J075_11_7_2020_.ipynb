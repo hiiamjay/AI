{
  "nbformat": 4,
  "nbformat_minor": 0,
  "metadata": {
    "colab": {
      "name": "HW_J075_11/7/2020 .ipynb",
      "provenance": [],
      "toc_visible": true,
      "authorship_tag": "ABX9TyMKLlyVHXDLwTX26wKGmNkU",
      "include_colab_link": true
    },
    "kernelspec": {
      "name": "python3",
      "display_name": "Python 3"
    }
  },
  "cells": [
    {
      "cell_type": "markdown",
      "metadata": {
        "id": "view-in-github",
        "colab_type": "text"
      },
      "source": [
        "<a href=\"https://colab.research.google.com/github/hiiamjay/AI/blob/master/HW/HW_J075_11_7_2020_.ipynb\" target=\"_parent\"><img src=\"https://colab.research.google.com/assets/colab-badge.svg\" alt=\"Open In Colab\"/></a>"
      ]
    },
    {
      "cell_type": "code",
      "metadata": {
        "id": "hwZBcLa4UtIk",
        "colab_type": "code",
        "colab": {}
      },
      "source": [
        "import pandas as pd\n",
        "import numpy as np\n",
        "import matplotlib.pylab as plt"
      ],
      "execution_count": 1,
      "outputs": []
    },
    {
      "cell_type": "markdown",
      "metadata": {
        "id": "IMIPbBUBT9vd",
        "colab_type": "text"
      },
      "source": [
        "# **Question 1**\n",
        "Create a custom class DataRead to read csv file using pandas"
      ]
    },
    {
      "cell_type": "code",
      "metadata": {
        "id": "8DcUuQUITqkL",
        "colab_type": "code",
        "colab": {}
      },
      "source": [
        "class DataRead :\n",
        "  def __init__ (self,fname):\n",
        "    self.dfile = pd.read_csv(fname)"
      ],
      "execution_count": 16,
      "outputs": []
    },
    {
      "cell_type": "code",
      "metadata": {
        "id": "9lJZpVeHVOUH",
        "colab_type": "code",
        "colab": {
          "base_uri": "https://localhost:8080/",
          "height": 119
        },
        "outputId": "0cd2dc32-db6e-48da-a5c2-d9cdf9ac6283"
      },
      "source": [
        "path = \"depression.csv\"\n",
        "data = DataRead(path)\n",
        "print(data.dfile.head())"
      ],
      "execution_count": 17,
      "outputs": [
        {
          "output_type": "stream",
          "text": [
            "   Unnamed: 0  Hospt  Treat  Outcome        Time  AcuteT  Age  Gender\n",
            "0           1      1      0        1   36.143002     211   33       1\n",
            "1           2      1      1        0  105.142998     176   49       1\n",
            "2           3      1      1        0   74.570999     191   50       1\n",
            "3           4      1      0        1   49.714001     206   29       2\n",
            "4           5      1      0        0   14.429000      63   29       1\n"
          ],
          "name": "stdout"
        }
      ]
    },
    {
      "cell_type": "markdown",
      "metadata": {
        "id": "v5NiIeb0UIRU",
        "colab_type": "text"
      },
      "source": [
        "# **Question 2**\n",
        "Create a custom function RowSelect within the class to select any 2 rows of the the the dataframe"
      ]
    },
    {
      "cell_type": "code",
      "metadata": {
        "id": "ZsvyWIfEUTaK",
        "colab_type": "code",
        "colab": {}
      },
      "source": [
        "class DataRead :\n",
        "  def __init__ (self,fname):\n",
        "    self.dfile = pd.read_csv(fname)\n",
        "  def display_rows(self,n):\n",
        "    print (self.dfile.iloc[n])"
      ],
      "execution_count": 23,
      "outputs": []
    },
    {
      "cell_type": "code",
      "metadata": {
        "id": "K1wX2Y5XXhbL",
        "colab_type": "code",
        "colab": {
          "base_uri": "https://localhost:8080/",
          "height": 119
        },
        "outputId": "78435d4d-46be-409e-8f70-6a9a1b0b42f2"
      },
      "source": [
        "path = \"depression.csv\"\n",
        "data = DataRead(path)\n",
        "print(data.dfile.head())"
      ],
      "execution_count": 34,
      "outputs": [
        {
          "output_type": "stream",
          "text": [
            "   Unnamed: 0  Hospt  Treat  Outcome        Time  AcuteT  Age  Gender\n",
            "0           1      1      0        1   36.143002     211   33       1\n",
            "1           2      1      1        0  105.142998     176   49       1\n",
            "2           3      1      1        0   74.570999     191   50       1\n",
            "3           4      1      0        1   49.714001     206   29       2\n",
            "4           5      1      0        0   14.429000      63   29       1\n"
          ],
          "name": "stdout"
        }
      ]
    },
    {
      "cell_type": "code",
      "metadata": {
        "id": "ADKO319YUdM7",
        "colab_type": "code",
        "colab": {
          "base_uri": "https://localhost:8080/",
          "height": 119
        },
        "outputId": "33e62d38-eb57-4972-8894-badc9a747f9e"
      },
      "source": [
        "col1 = int(input(\"Input Row 1 : \"))\n",
        "col2 = int(input(\"Input Row 2 : \"))\n",
        "array = ([col1],[col2])\n",
        "for i in array:\n",
        "  data.display_rows(i)"
      ],
      "execution_count": 25,
      "outputs": [
        {
          "output_type": "stream",
          "text": [
            "Input Row 1 : 2\n",
            "Input Row 2 : 4\n",
            "   Unnamed: 0  Hospt  Treat  Outcome       Time  AcuteT  Age  Gender\n",
            "2           3      1      1        0  74.570999     191   50       1\n",
            "   Unnamed: 0  Hospt  Treat  Outcome    Time  AcuteT  Age  Gender\n",
            "4           5      1      0        0  14.429      63   29       1\n"
          ],
          "name": "stdout"
        }
      ]
    },
    {
      "cell_type": "markdown",
      "metadata": {
        "id": "qVIUP6DgUT5Z",
        "colab_type": "text"
      },
      "source": [
        "# **Question 3**\n",
        "Create a sub class of DataRead1 as DataRead2 that has function for correlation plots (using any lib for correlation plot)"
      ]
    },
    {
      "cell_type": "code",
      "metadata": {
        "id": "BSs8dj-dXxVb",
        "colab_type": "code",
        "colab": {}
      },
      "source": [
        "class DataRead2(DataRead):\n",
        "  def __init__ (self,fname):\n",
        "    DataRead.__init__(DataRead,fname)\n",
        "\n",
        "  def correlationplot (self):\n",
        "    df2 = self.dfile\n",
        "    corr= df2.corr()\n",
        "\n",
        "    fig = plt.figure()\n",
        "    ax = fig.add_subplot()\n",
        "\n",
        "    cax = ax.matshow(corr, cmap='coolwarm')\n",
        "    fig.colorbar(cax)\n",
        "\n",
        "    ticks = np.arange(0,len(corr.columns),1)\n",
        "    ax.set_xticks(ticks)\n",
        "    ax.set_yticks(ticks)\n",
        "\n",
        "    plt.xticks(rotation=90)\n",
        "\n",
        "    ax.set_xticklabels(corr.columns)\n",
        "    ax.set_yticklabels(corr.columns)\n",
        "\n",
        "    plt.show()"
      ],
      "execution_count": 29,
      "outputs": []
    },
    {
      "cell_type": "code",
      "metadata": {
        "id": "kp6EWe0lYbQ5",
        "colab_type": "code",
        "colab": {
          "base_uri": "https://localhost:8080/",
          "height": 119
        },
        "outputId": "1c2b368f-feca-46d0-addd-b2c61ccc67d7"
      },
      "source": [
        "data2 = DataRead2(path)\n",
        "print(data2.dfile.head())"
      ],
      "execution_count": 35,
      "outputs": [
        {
          "output_type": "stream",
          "text": [
            "   Unnamed: 0  Hospt  Treat  Outcome        Time  AcuteT  Age  Gender\n",
            "0           1      1      0        1   36.143002     211   33       1\n",
            "1           2      1      1        0  105.142998     176   49       1\n",
            "2           3      1      1        0   74.570999     191   50       1\n",
            "3           4      1      0        1   49.714001     206   29       2\n",
            "4           5      1      0        0   14.429000      63   29       1\n"
          ],
          "name": "stdout"
        }
      ]
    },
    {
      "cell_type": "code",
      "metadata": {
        "id": "6uPdmEglZi45",
        "colab_type": "code",
        "colab": {
          "base_uri": "https://localhost:8080/",
          "height": 320
        },
        "outputId": "4c231bbc-d64b-404a-b7b7-176838c40812"
      },
      "source": [
        "data2.correlationplot()"
      ],
      "execution_count": 36,
      "outputs": [
        {
          "output_type": "display_data",
          "data": {
            "image/png": "[encoded data removed]",
            "text/plain": [
              "<Figure size 432x288 with 2 Axes>"
            ]
          },
          "metadata": {
            "tags": [],
            "needs_background": "light"
          }
        }
      ]
    },
    {
      "cell_type": "markdown",
      "metadata": {
        "id": "aZJhxYFoUdls",
        "colab_type": "text"
      },
      "source": [
        "# **Question 4**\n",
        "Within DataRead2 also create a function to override the custom function of DataRead1 RowSelect to select 3 rows"
      ]
    },
    {
      "cell_type": "code",
      "metadata": {
        "id": "ne81znM0UlAN",
        "colab_type": "code",
        "colab": {}
      },
      "source": [
        "class DataRead2(DataRead):\n",
        "  def __init__ (self,fname):\n",
        "    DataRead.__init__(DataRead,fname)\n",
        "  \n",
        "  def display_rows(self,n):\n",
        "      print (self.dfile.iloc[n])\n",
        "\n",
        "  def correlationplot (self):\n",
        "    df2 = self.dfile\n",
        "    corr= df2.corr()\n",
        "\n",
        "    fig = plt.figure()\n",
        "    ax = fig.add_subplot()\n",
        "\n",
        "    cax = ax.matshow(corr, cmap='coolwarm')\n",
        "    fig.colorbar(cax)\n",
        "\n",
        "    ticks = np.arange(0,len(corr.columns),1)\n",
        "    ax.set_xticks(ticks)\n",
        "    ax.set_yticks(ticks)\n",
        "\n",
        "    plt.xticks(rotation=90)\n",
        "\n",
        "    ax.set_xticklabels(corr.columns)\n",
        "    ax.set_yticklabels(corr.columns)\n",
        "    \n",
        "    plt.show()"
      ],
      "execution_count": 31,
      "outputs": []
    },
    {
      "cell_type": "code",
      "metadata": {
        "id": "hGnY98rIY7ai",
        "colab_type": "code",
        "colab": {
          "base_uri": "https://localhost:8080/",
          "height": 119
        },
        "outputId": "2b7e6ca2-1dcb-4c35-a168-b49b0de88618"
      },
      "source": [
        "data2 = DataRead2(path)\n",
        "print(data2.dfile.head())"
      ],
      "execution_count": 37,
      "outputs": [
        {
          "output_type": "stream",
          "text": [
            "   Unnamed: 0  Hospt  Treat  Outcome        Time  AcuteT  Age  Gender\n",
            "0           1      1      0        1   36.143002     211   33       1\n",
            "1           2      1      1        0  105.142998     176   49       1\n",
            "2           3      1      1        0   74.570999     191   50       1\n",
            "3           4      1      0        1   49.714001     206   29       2\n",
            "4           5      1      0        0   14.429000      63   29       1\n"
          ],
          "name": "stdout"
        }
      ]
    },
    {
      "cell_type": "code",
      "metadata": {
        "id": "wGJjAiiHZGp5",
        "colab_type": "code",
        "colab": {
          "base_uri": "https://localhost:8080/",
          "height": 170
        },
        "outputId": "7f7bb6ca-71f6-4981-d491-9fb6ef24496f"
      },
      "source": [
        "col1 = int(input(\"Input Row 1 : \"))\n",
        "col2 = int(input(\"Input Row 2 : \"))\n",
        "col3 = int(input(\"Input Row 3 : \"))\n",
        "array = ([col1], [col2], [col3])\n",
        "for i in array:\n",
        "  data2.display_rows(i)"
      ],
      "execution_count": 33,
      "outputs": [
        {
          "output_type": "stream",
          "text": [
            "Input Row 1 : 1\n",
            "Input Row 2 : 3\n",
            "Input Row 3 : 4\n",
            "   Unnamed: 0  Hospt  Treat  Outcome        Time  AcuteT  Age  Gender\n",
            "1           2      1      1        0  105.142998     176   49       1\n",
            "   Unnamed: 0  Hospt  Treat  Outcome       Time  AcuteT  Age  Gender\n",
            "3           4      1      0        1  49.714001     206   29       2\n",
            "   Unnamed: 0  Hospt  Treat  Outcome    Time  AcuteT  Age  Gender\n",
            "4           5      1      0        0  14.429      63   29       1\n"
          ],
          "name": "stdout"
        }
      ]
    }
  ]
}