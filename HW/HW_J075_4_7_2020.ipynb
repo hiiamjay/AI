{
  "nbformat": 4,
  "nbformat_minor": 0,
  "metadata": {
    "colab": {
      "name": "HW_J075_4/7/2020.ipynb",
      "provenance": [],
      "collapsed_sections": [],
      "authorship_tag": "ABX9TyNbd3j8mFX7UvgzoupF6ONf",
      "include_colab_link": true
    },
    "kernelspec": {
      "name": "python3",
      "display_name": "Python 3"
    }
  },
  "cells": [
    {
      "cell_type": "markdown",
      "metadata": {
        "id": "view-in-github",
        "colab_type": "text"
      },
      "source": [
        "<a href=\"https://colab.research.google.com/github/hiiamjay/AI/blob/master/HW/HW_J075_4_7_2020.ipynb\" target=\"_parent\"><img src=\"https://colab.research.google.com/assets/colab-badge.svg\" alt=\"Open In Colab\"/></a>"
      ]
    },
    {
      "cell_type": "markdown",
      "metadata": {
        "id": "TrxVBihORFSw",
        "colab_type": "text"
      },
      "source": [
        "# Question 1:  Python If-Else\n",
        "https://www.hackerrank.com/rest/contests/master/challenges/py-if-else/hackers/jayprajapati1141/download_solution"
      ]
    },
    {
      "cell_type": "code",
      "metadata": {
        "id": "GoQB82pgPSiG",
        "colab_type": "code",
        "colab": {}
      },
      "source": [
        "#!/bin/python\n",
        "\n",
        "import math\n",
        "import os\n",
        "import random\n",
        "import re\n",
        "import sys\n",
        "\n",
        "\n",
        "\n",
        "if __name__ == '__main__':\n",
        "    n = int(raw_input().strip())\n",
        "    if n>=1 and n<=100:\n",
        "        if n%2==1:\n",
        "            print(\"Weird\")\n",
        "        elif n%2==0:\n",
        "            if n>=2 and n<=5:\n",
        "                print(\"Not Weird\")\n",
        "            elif n>=6 and n<=20:\n",
        "                print(\"Weird\")\n",
        "            elif n>20:\n",
        "                print(\"Not Weird\")\n",
        "    else:\n",
        "        print(\"Not Weird\")"
      ],
      "execution_count": null,
      "outputs": []
    },
    {
      "cell_type": "markdown",
      "metadata": {
        "id": "UqaqMGcYRTS-",
        "colab_type": "text"
      },
      "source": [
        "# Question 2: Arithmetic Operators\n",
        "https://www.hackerrank.com/rest/contests/master/challenges/python-arithmetic-operators/hackers/jayprajapati1141/download_solution"
      ]
    },
    {
      "cell_type": "code",
      "metadata": {
        "id": "hY6TsDYFblxb",
        "colab_type": "code",
        "colab": {}
      },
      "source": [
        "if __name__ == '__main__':\n",
        "    a = int(raw_input())\n",
        "    b = int(raw_input())\n",
        "    print(a+b)\n",
        "    print(a-b)\n",
        "    print(a*b)"
      ],
      "execution_count": null,
      "outputs": []
    },
    {
      "cell_type": "markdown",
      "metadata": {
        "id": "8m_6wF1hbm_K",
        "colab_type": "text"
      },
      "source": [
        "# Question 3: Python Division\n",
        "https://www.hackerrank.com/rest/contests/master/challenges/python-division/hackers/jayprajapati1141/download_solution"
      ]
    },
    {
      "cell_type": "code",
      "metadata": {
        "id": "9aOQ4kimbngi",
        "colab_type": "code",
        "colab": {}
      },
      "source": [
        "from __future__ import division\n",
        "\n",
        "if __name__ == '__main__':\n",
        "    a = int(raw_input())\n",
        "    b = int(raw_input())\n",
        "    print(a//b)\n",
        "    print(a/b)"
      ],
      "execution_count": null,
      "outputs": []
    },
    {
      "cell_type": "markdown",
      "metadata": {
        "id": "Ti42T8mmb4X2",
        "colab_type": "text"
      },
      "source": [
        "# Question 4: Loop\n",
        "https://www.hackerrank.com/rest/contests/master/challenges/python-loops/hackers/jayprajapati1141/download_solution"
      ]
    },
    {
      "cell_type": "code",
      "metadata": {
        "id": "7hjfCWymb986",
        "colab_type": "code",
        "colab": {}
      },
      "source": [
        "if __name__ == '__main__':\n",
        "    n = int(raw_input())\n",
        "    if n>=1 and n<=20:\n",
        "        for i in range(0,n):\n",
        "            print(i**2)"
      ],
      "execution_count": null,
      "outputs": []
    },
    {
      "cell_type": "markdown",
      "metadata": {
        "id": "p8WyxdBCb-mC",
        "colab_type": "text"
      },
      "source": [
        "# Question 5: Print Function\n",
        "https://www.hackerrank.com/rest/contests/master/challenges/python-print/hackers/jayprajapati1141/download_solution"
      ]
    },
    {
      "cell_type": "code",
      "metadata": {
        "id": "EMr4RvRNcFFc",
        "colab_type": "code",
        "colab": {}
      },
      "source": [
        "from __future__ import print_function\n",
        "\n",
        "if __name__ == '__main__':\n",
        "    n = int(raw_input())\n",
        "    for i in range(1,n+1):\n",
        "        print(i, end=\"\")"
      ],
      "execution_count": null,
      "outputs": []
    },
    {
      "cell_type": "markdown",
      "metadata": {
        "id": "Qe3nUe04cFnK",
        "colab_type": "text"
      },
      "source": [
        "# Question 6: List Comprehensions\n",
        "https://www.hackerrank.com/rest/contests/master/challenges/list-comprehensions/hackers/jayprajapati1141/download_solution\""
      ]
    },
    {
      "cell_type": "code",
      "metadata": {
        "id": "hYwHoRIacPJR",
        "colab_type": "code",
        "colab": {}
      },
      "source": [
        "if __name__ == '__main__':\n",
        "    x = int(raw_input())\n",
        "    y = int(raw_input())\n",
        "    z = int(raw_input())\n",
        "    n = int(raw_input())\n",
        "    a = []\n",
        "    for i in range(0, x + 1): \n",
        "        for j in range(0, y + 1): \n",
        "            for k in range(0, z + 1):\n",
        "                if ( ( i + j + k ) != n ):\n",
        "                    temp = [i,j,k]\n",
        "                    a.append(temp)\n",
        "    print(a)"
      ],
      "execution_count": null,
      "outputs": []
    }
  ]
}