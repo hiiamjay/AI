{
  "nbformat": 4,
  "nbformat_minor": 0,
  "metadata": {
    "colab": {
      "name": "CW_J075_1_8_2020_.ipynb",
      "provenance": [],
      "authorship_tag": "ABX9TyPHh59sHrYQwD6aCWumBoOv",
      "include_colab_link": true
    },
    "kernelspec": {
      "name": "python3",
      "display_name": "Python 3"
    }
  },
  "cells": [
    {
      "cell_type": "markdown",
      "metadata": {
        "id": "view-in-github",
        "colab_type": "text"
      },
      "source": [
        "<a href=\"https://colab.research.google.com/github/hiiamjay/AI/blob/master/CW/CW_J075_1_8_2020_.ipynb\" target=\"_parent\"><img src=\"https://colab.research.google.com/assets/colab-badge.svg\" alt=\"Open In Colab\"/></a>"
      ]
    },
    {
      "cell_type": "markdown",
      "metadata": {
        "id": "7EauH3lICuh_",
        "colab_type": "text"
      },
      "source": [
        "# Dynamic Programming"
      ]
    },
    {
      "cell_type": "markdown",
      "metadata": {
        "id": "S0Ix3Q3HEQsF",
        "colab_type": "text"
      },
      "source": [
        "Recursion - function calling itself during execution"
      ]
    },
    {
      "cell_type": "markdown",
      "metadata": {
        "id": "-HVjpA6AEmA_",
        "colab_type": "text"
      },
      "source": [
        "Memoisation - Memorandum (Latin)  (To be remembered)\n",
        "\n",
        "Stores intermediate values, through various ways"
      ]
    },
    {
      "cell_type": "markdown",
      "metadata": {
        "id": "eRvFgeLDug9Y",
        "colab_type": "text"
      },
      "source": [
        "## Recursive Function"
      ]
    },
    {
      "cell_type": "code",
      "metadata": {
        "id": "eA-bpK9vFd97",
        "colab_type": "code",
        "colab": {
          "base_uri": "https://localhost:8080/",
          "height": 34
        },
        "outputId": "61607501-617d-41f9-d675-0e034b0829d6"
      },
      "source": [
        "#7!\n",
        "def factorial (n):\n",
        "  if n == 1:\n",
        "       return n\n",
        "  else:\n",
        "       return n*factorial(n-1)\n",
        "#main function\n",
        "num = 7\n",
        "if num < 0:\n",
        "   print(\"Factorial does not exist for negative numbers\")\n",
        "elif num == 0:\n",
        "   print(\"The factorial of 0 is 1\")\n",
        "else:\n",
        "   print(\"The factorial of\", num, \"is\", factorial(num))"
      ],
      "execution_count": 1,
      "outputs": [
        {
          "output_type": "stream",
          "text": [
            "The factorial of 7 is 5040\n"
          ],
          "name": "stdout"
        }
      ]
    },
    {
      "cell_type": "markdown",
      "metadata": {
        "id": "uyjurLYQuyL2",
        "colab_type": "text"
      },
      "source": [
        "## Loops(for) Function"
      ]
    },
    {
      "cell_type": "code",
      "metadata": {
        "id": "0r7jwtiCIlWM",
        "colab_type": "code",
        "colab": {
          "base_uri": "https://localhost:8080/",
          "height": 34
        },
        "outputId": "f6155027-f79c-410e-f74c-6cfeab968a22"
      },
      "source": [
        "num = 7\n",
        "factorial = 1\n",
        "if num < 0:\n",
        "   print(\"Sorry, factorial does not exist for negative numbers\")\n",
        "elif num == 0:\n",
        "   print(\"The factorial of 0 is 1\")\n",
        "else:\n",
        "   for i in range(1,num + 1):\n",
        "       factorial = factorial*i\n",
        "   print(\"The factorial of\",num,\"is\",factorial)"
      ],
      "execution_count": 2,
      "outputs": [
        {
          "output_type": "stream",
          "text": [
            "The factorial of 7 is 5040\n"
          ],
          "name": "stdout"
        }
      ]
    },
    {
      "cell_type": "markdown",
      "metadata": {
        "id": "ieYsoCnyu8NS",
        "colab_type": "text"
      },
      "source": [
        "## Loops(while) Function"
      ]
    },
    {
      "cell_type": "code",
      "metadata": {
        "id": "CO-dbdC4JTRL",
        "colab_type": "code",
        "colab": {
          "base_uri": "https://localhost:8080/",
          "height": 153
        },
        "outputId": "a8bff509-1ade-404e-92f5-f13a8c56caaf"
      },
      "source": [
        "#fibonacci sequence\n",
        "nterms = int(input(\"How many terms? \"))\n",
        "n1, n2 = 0, 1\n",
        "count = 0\n",
        "# check if the number of terms is valid\n",
        "if nterms <= 0:\n",
        "   print(\"Please enter a positive integer\")\n",
        "elif nterms == 1:\n",
        "   print(\"Fibonacci sequence upto\",nterms,\":\")\n",
        "   print(n1)\n",
        "else:\n",
        "   print(\"Fibonacci sequence:\")\n",
        "   while count < nterms:\n",
        "       print(n1)\n",
        "       nth = n1 + n2\n",
        "       n1 = n2\n",
        "       n2 = nth\n",
        "       count += 1"
      ],
      "execution_count": 3,
      "outputs": [
        {
          "output_type": "stream",
          "text": [
            "How many terms? 6\n",
            "Fibonacci sequence:\n",
            "0\n",
            "1\n",
            "1\n",
            "2\n",
            "3\n",
            "5\n"
          ],
          "name": "stdout"
        }
      ]
    },
    {
      "cell_type": "markdown",
      "metadata": {
        "id": "CgA0yOVMvDBC",
        "colab_type": "text"
      },
      "source": [
        "## Recursive Function"
      ]
    },
    {
      "cell_type": "code",
      "metadata": {
        "id": "E91OhxYCNSkZ",
        "colab_type": "code",
        "colab": {
          "base_uri": "https://localhost:8080/",
          "height": 153
        },
        "outputId": "9da6e1f8-8e6b-40bf-c2ca-2e10305ffadc"
      },
      "source": [
        "def recur_fibo(n):  \n",
        "   if n <= 1:  \n",
        "       return n  \n",
        "   else:  \n",
        "       return(recur_fibo(n-1) + recur_fibo(n-2))  \n",
        "nterms = int(input(\"How many terms? \"))  \n",
        "if nterms <= 0:  \n",
        "   print(\"Plese enter a positive integer\")  \n",
        "else:  \n",
        "   print(\"Fibonacci sequence:\")  \n",
        "   for i in range(nterms):  \n",
        "       print(recur_fibo(i))  "
      ],
      "execution_count": 4,
      "outputs": [
        {
          "output_type": "stream",
          "text": [
            "How many terms? 6\n",
            "Fibonacci sequence:\n",
            "0\n",
            "1\n",
            "1\n",
            "2\n",
            "3\n",
            "5\n"
          ],
          "name": "stdout"
        }
      ]
    },
    {
      "cell_type": "code",
      "metadata": {
        "id": "W0JriF_mSvC3",
        "colab_type": "code",
        "colab": {
          "base_uri": "https://localhost:8080/",
          "height": 34
        },
        "outputId": "80657ddf-5114-48be-d658-4c5a8c6b0e88"
      },
      "source": [
        "#returns n+1 th number instead of nth number \n",
        "def fibo_1(n):\n",
        "  if n==0 or n==1:\n",
        "    return n\n",
        "  else:\n",
        "    return fibo_1(n-1)+fibo_1(n-2)\n",
        "fibo_1(7)"
      ],
      "execution_count": 5,
      "outputs": [
        {
          "output_type": "execute_result",
          "data": {
            "text/plain": [
              "13"
            ]
          },
          "metadata": {
            "tags": []
          },
          "execution_count": 5
        }
      ]
    },
    {
      "cell_type": "markdown",
      "metadata": {
        "id": "-cacQUcXvP1Q",
        "colab_type": "text"
      },
      "source": [
        "## Loops(for) Function"
      ]
    },
    {
      "cell_type": "code",
      "metadata": {
        "id": "b4bDkD-HQfkd",
        "colab_type": "code",
        "colab": {
          "base_uri": "https://localhost:8080/",
          "height": 34
        },
        "outputId": "027c971c-c93d-4b95-bcfb-61814ba8e8e7"
      },
      "source": [
        "def fibonacci(n): \n",
        "    a = 0\n",
        "    b = 1\n",
        "    if n < 0: \n",
        "        print(\"Incorrect input\") \n",
        "    elif n == 0: \n",
        "        return a \n",
        "    elif n == 1: \n",
        "        return b \n",
        "    else: \n",
        "        for i in range(2,n): \n",
        "            c = a + b \n",
        "            a = b \n",
        "            b = c \n",
        "        return b \n",
        "print(fibonacci(10)) "
      ],
      "execution_count": 7,
      "outputs": [
        {
          "output_type": "stream",
          "text": [
            "34\n"
          ],
          "name": "stdout"
        }
      ]
    },
    {
      "cell_type": "markdown",
      "metadata": {
        "id": "Jpi4-uHIXwuU",
        "colab_type": "text"
      },
      "source": [
        "# Tractable - PTIME (Polynomial Time Solvable )\n",
        "\n",
        "Polynomial - expression where each terms is n^k where k can be any whole number\n",
        "\n",
        "Degree of the polynomial - highest power of the variable within the expression\n",
        "\n",
        "Polynomial Time - Runtime of the code or solution should be a polynomial of degree k where k is a constant since it is time, n cannot be negative\n",
        "\n",
        "n : Input space or dimension\n",
        "\n",
        "eg O(n^4) - 3n^4+2n^2+1\n",
        "\n",
        "O(n!)\n",
        "n*n-1*n+2*...1 -> Polynomial of degree n-1 (Non Polynomial Time)\n"
      ]
    },
    {
      "cell_type": "markdown",
      "metadata": {
        "id": "ZcJFg4CRWBKi",
        "colab_type": "text"
      },
      "source": [
        "Binary Search"
      ]
    },
    {
      "cell_type": "code",
      "metadata": {
        "id": "KTB0CiMvWCnd",
        "colab_type": "code",
        "colab": {}
      },
      "source": [
        "l1 = [5,3,2,1,6,7,123,97,65,34,22,344,2245,122,45]\n",
        "#search for element 97\n",
        "l2 =l1.copy().sort()"
      ],
      "execution_count": 8,
      "outputs": []
    }
  ]
}