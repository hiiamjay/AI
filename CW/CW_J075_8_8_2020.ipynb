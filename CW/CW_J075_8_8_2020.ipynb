{
  "nbformat": 4,
  "nbformat_minor": 0,
  "metadata": {
    "colab": {
      "name": "CW_J075_8/8/2020.ipynb",
      "provenance": [],
      "authorship_tag": "ABX9TyP7N7PuKIfX+Lgkzr/ulx9j",
      "include_colab_link": true
    },
    "kernelspec": {
      "name": "python3",
      "display_name": "Python 3"
    }
  },
  "cells": [
    {
      "cell_type": "markdown",
      "metadata": {
        "id": "view-in-github",
        "colab_type": "text"
      },
      "source": [
        "<a href=\"https://colab.research.google.com/github/hiiamjay/AI/blob/master/CW/CW_J075_8_8_2020.ipynb\" target=\"_parent\"><img src=\"https://colab.research.google.com/assets/colab-badge.svg\" alt=\"Open In Colab\"/></a>"
      ]
    },
    {
      "cell_type": "code",
      "metadata": {
        "id": "gd5lA1AxDgNK",
        "colab_type": "code",
        "colab": {}
      },
      "source": [
        "import timeit\n",
        "\n",
        "start = timeit.default_timer()"
      ],
      "execution_count": null,
      "outputs": []
    },
    {
      "cell_type": "code",
      "metadata": {
        "id": "tVy5dvXUGPfb",
        "colab_type": "code",
        "colab": {}
      },
      "source": [
        "def fact(n):\n",
        "  product = 1\n",
        "  for i in range(n):\n",
        "    print(str(product) +' * '+ str(product * (i+1)))\n",
        "    product = product * (i+1)\n",
        "  return(n)"
      ],
      "execution_count": null,
      "outputs": []
    },
    {
      "cell_type": "code",
      "metadata": {
        "id": "Gfbosqb_LBZW",
        "colab_type": "code",
        "colab": {
          "base_uri": "https://localhost:8080/",
          "height": 119
        },
        "outputId": "fea33347-e849-40a4-d1f4-253c31182ae5"
      },
      "source": [
        "fact(5)"
      ],
      "execution_count": null,
      "outputs": [
        {
          "output_type": "stream",
          "text": [
            "1 * 1\n",
            "1 * 2\n",
            "2 * 6\n",
            "6 * 24\n",
            "24 * 120\n"
          ],
          "name": "stdout"
        },
        {
          "output_type": "execute_result",
          "data": {
            "text/plain": [
              "5"
            ]
          },
          "metadata": {
            "tags": []
          },
          "execution_count": 16
        }
      ]
    },
    {
      "cell_type": "code",
      "metadata": {
        "id": "C6yr6-PKGSFb",
        "colab_type": "code",
        "colab": {
          "base_uri": "https://localhost:8080/",
          "height": 51
        },
        "outputId": "0a7f2467-c4ca-49dd-ae7f-d8536a2a9ead"
      },
      "source": [
        "%timeit(fact(5))"
      ],
      "execution_count": null,
      "outputs": [
        {
          "output_type": "stream",
          "text": [
            "The slowest run took 5.02 times longer than the fastest. This could mean that an intermediate result is being cached.\n",
            "1000000 loops, best of 3: 566 ns per loop\n"
          ],
          "name": "stdout"
        }
      ]
    },
    {
      "cell_type": "code",
      "metadata": {
        "id": "uauj7PIZGzqW",
        "colab_type": "code",
        "colab": {
          "base_uri": "https://localhost:8080/",
          "height": 51
        },
        "outputId": "d9131b7f-3396-45d6-e4c9-66ec76b8c3bc"
      },
      "source": [
        "%timeit(fact(50))"
      ],
      "execution_count": null,
      "outputs": [
        {
          "output_type": "stream",
          "text": [
            "The slowest run took 4.73 times longer than the fastest. This could mean that an intermediate result is being cached.\n",
            "100000 loops, best of 3: 3.78 µs per loop\n"
          ],
          "name": "stdout"
        }
      ]
    },
    {
      "cell_type": "code",
      "metadata": {
        "id": "KNF5aT8NG2m_",
        "colab_type": "code",
        "colab": {
          "base_uri": "https://localhost:8080/",
          "height": 34
        },
        "outputId": "fb2a981d-643a-4703-ce09-d2677e242a2f"
      },
      "source": [
        "%timeit(fact(500))"
      ],
      "execution_count": null,
      "outputs": [
        {
          "output_type": "stream",
          "text": [
            "10000 loops, best of 3: 77.8 µs per loop\n"
          ],
          "name": "stdout"
        }
      ]
    },
    {
      "cell_type": "code",
      "metadata": {
        "id": "b_6H8tnMHG5T",
        "colab_type": "code",
        "colab": {}
      },
      "source": [
        "def sum(a,b):\n",
        "  return(a+b)"
      ],
      "execution_count": null,
      "outputs": []
    },
    {
      "cell_type": "code",
      "metadata": {
        "id": "5Hb-qLroI9Tb",
        "colab_type": "code",
        "colab": {
          "base_uri": "https://localhost:8080/",
          "height": 51
        },
        "outputId": "f55e0ea0-4768-4b64-d236-f306a760157f"
      },
      "source": [
        "%timeit(sum(5,10))"
      ],
      "execution_count": null,
      "outputs": [
        {
          "output_type": "stream",
          "text": [
            "The slowest run took 12.53 times longer than the fastest. This could mean that an intermediate result is being cached.\n",
            "10000000 loops, best of 3: 87.8 ns per loop\n"
          ],
          "name": "stdout"
        }
      ]
    },
    {
      "cell_type": "code",
      "metadata": {
        "id": "aWxLYctgJBxy",
        "colab_type": "code",
        "colab": {
          "base_uri": "https://localhost:8080/",
          "height": 51
        },
        "outputId": "b250f1d6-cb33-4bf2-e4e9-03e8547d1ae0"
      },
      "source": [
        "%timeit(sum(50,100))"
      ],
      "execution_count": null,
      "outputs": [
        {
          "output_type": "stream",
          "text": [
            "The slowest run took 15.80 times longer than the fastest. This could mean that an intermediate result is being cached.\n",
            "10000000 loops, best of 3: 88 ns per loop\n"
          ],
          "name": "stdout"
        }
      ]
    }
  ]
}